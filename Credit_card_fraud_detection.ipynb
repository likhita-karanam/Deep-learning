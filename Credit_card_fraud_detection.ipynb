{
  "nbformat": 4,
  "nbformat_minor": 0,
  "metadata": {
    "colab": {
      "name": "Credit card fraud detection.ipynb",
      "provenance": [],
      "collapsed_sections": [],
      "include_colab_link": true
    },
    "kernelspec": {
      "name": "python3",
      "display_name": "Python 3"
    }
  },
  "cells": [
    {
      "cell_type": "markdown",
      "metadata": {
        "id": "view-in-github",
        "colab_type": "text"
      },
      "source": [
        "<a href=\"https://colab.research.google.com/github/likhita-karanam/Deep-learning/blob/master/Credit_card_fraud_detection.ipynb\" target=\"_parent\"><img src=\"https://colab.research.google.com/assets/colab-badge.svg\" alt=\"Open In Colab\"/></a>"
      ]
    },
    {
      "cell_type": "markdown",
      "metadata": {
        "id": "t9oX7AL3nyLm",
        "colab_type": "text"
      },
      "source": [
        "#Self Organizing Maps\n",
        "### Class 1 are the customers whose applications got approved\n",
        "### They may be fraudulent"
      ]
    },
    {
      "cell_type": "markdown",
      "metadata": {
        "id": "r9maNhdd65pB",
        "colab_type": "text"
      },
      "source": [
        "##Install MiniSom Package"
      ]
    },
    {
      "cell_type": "code",
      "metadata": {
        "id": "1KB28WUso0Bj",
        "colab_type": "code",
        "colab": {
          "base_uri": "https://localhost:8080/",
          "height": 193
        },
        "outputId": "b008938e-3014-44a1-ea08-8ccb8928d790"
      },
      "source": [
        "!pip install MiniSom"
      ],
      "execution_count": 1,
      "outputs": [
        {
          "output_type": "stream",
          "text": [
            "Collecting MiniSom\n",
            "  Downloading https://files.pythonhosted.org/packages/9d/10/a1c1621000d5ca00c41695689551c1a4d6d245d7bbf099d81e067da3e8f2/MiniSom-2.2.6.tar.gz\n",
            "Building wheels for collected packages: MiniSom\n",
            "  Building wheel for MiniSom (setup.py) ... \u001b[?25l\u001b[?25hdone\n",
            "  Created wheel for MiniSom: filename=MiniSom-2.2.6-cp36-none-any.whl size=8525 sha256=ea3bd41c936f1595efebd54a4d1eda4ac002b7b9a9df90efebd7e27a9aa7e0f6\n",
            "  Stored in directory: /root/.cache/pip/wheels/b8/c6/01/330066e36e1f7c826c96f656f9185822cfcdef0591315949ea\n",
            "Successfully built MiniSom\n",
            "Installing collected packages: MiniSom\n",
            "Successfully installed MiniSom-2.2.6\n"
          ],
          "name": "stdout"
        }
      ]
    },
    {
      "cell_type": "markdown",
      "metadata": {
        "id": "6AX0Y23PnyOI",
        "colab_type": "text"
      },
      "source": [
        "### Importing the libraries\n"
      ]
    },
    {
      "cell_type": "code",
      "metadata": {
        "id": "gaSkOFKKBB3b",
        "colab_type": "code",
        "colab": {}
      },
      "source": [
        "import numpy as np\n",
        "import pandas as pd\n",
        "import matplotlib.pyplot as plt\n",
        "from numpy import *"
      ],
      "execution_count": 32,
      "outputs": []
    },
    {
      "cell_type": "markdown",
      "metadata": {
        "id": "SCl7ERn_n539",
        "colab_type": "text"
      },
      "source": [
        "## Importing the dataset"
      ]
    },
    {
      "cell_type": "code",
      "metadata": {
        "id": "4hgeaN3CoRfl",
        "colab_type": "code",
        "colab": {}
      },
      "source": [
        "dataset = pd.read_csv('Credit_Card_Applications.csv')\n",
        "X = dataset.iloc[:, :-1].values \n",
        "y = dataset.iloc[:, -1].values"
      ],
      "execution_count": 3,
      "outputs": []
    },
    {
      "cell_type": "markdown",
      "metadata": {
        "id": "fYHJ0dd6n-d4",
        "colab_type": "text"
      },
      "source": [
        "## Feature Scaling\n"
      ]
    },
    {
      "cell_type": "code",
      "metadata": {
        "id": "sY7JiUxwoSOd",
        "colab_type": "code",
        "colab": {}
      },
      "source": [
        "from sklearn.preprocessing import MinMaxScaler\n",
        "sc = MinMaxScaler(feature_range = (0,1))\n",
        "X = sc.fit_transform(X)"
      ],
      "execution_count": 4,
      "outputs": []
    },
    {
      "cell_type": "markdown",
      "metadata": {
        "id": "aPp-7wfNoAhR",
        "colab_type": "text"
      },
      "source": [
        "##Training the SOM\n"
      ]
    },
    {
      "cell_type": "code",
      "metadata": {
        "id": "3iuAhM6ooS0k",
        "colab_type": "code",
        "colab": {}
      },
      "source": [
        "from minisom import MiniSom\n",
        "som = MiniSom(x=10, y=10, input_len= 15, sigma= 1.0, learning_rate = 0.5)\n",
        "som.random_weights_init(X)\n",
        "som.train_random(data = X, num_iteration = 100)"
      ],
      "execution_count": 5,
      "outputs": []
    },
    {
      "cell_type": "markdown",
      "metadata": {
        "id": "YiU27C-ToCnH",
        "colab_type": "text"
      },
      "source": [
        "##Visualizing the results\n"
      ]
    },
    {
      "cell_type": "code",
      "metadata": {
        "id": "XzrIX4fZoTQj",
        "colab_type": "code",
        "colab": {
          "base_uri": "https://localhost:8080/",
          "height": 269
        },
        "outputId": "bec18814-e78b-466c-c71c-2b4940e86172"
      },
      "source": [
        "from pylab import bone, pcolor, colorbar, plot, show\n",
        "bone()\n",
        "pcolor(som.distance_map().T)\n",
        "colorbar()\n",
        "markers = ['o', 's']\n",
        "colors = ['r', 'g']\n",
        "for i, x in enumerate(X):\n",
        "    w = som.winner(x)\n",
        "    plot(w[0] + 0.5,\n",
        "         w[1] + 0.5,\n",
        "         markers[y[i]],\n",
        "         markeredgecolor = colors[y[i]],\n",
        "         markerfacecolor = 'None',\n",
        "         markersize = 10,\n",
        "         markeredgewidth = 2)\n",
        "show()"
      ],
      "execution_count": 6,
      "outputs": [
        {
          "output_type": "display_data",
          "data": {
            "image/png": "[encoded data removed]",
            "text/plain": [
              "<Figure size 432x288 with 2 Axes>"
            ]
          },
          "metadata": {
            "tags": [],
            "needs_background": "light"
          }
        }
      ]
    },
    {
      "cell_type": "code",
      "metadata": {
        "id": "1coRrq5IF4vY",
        "colab_type": "code",
        "colab": {}
      },
      "source": [
        "distance_map = som.distance_map().round(1)"
      ],
      "execution_count": 35,
      "outputs": []
    },
    {
      "cell_type": "markdown",
      "metadata": {
        "id": "4C-I_jBfoEkP",
        "colab_type": "text"
      },
      "source": [
        "## Finding the frauds\n"
      ]
    },
    {
      "cell_type": "code",
      "metadata": {
        "id": "4xd-jb8doTlM",
        "colab_type": "code",
        "colab": {
          "base_uri": "https://localhost:8080/",
          "height": 54
        },
        "outputId": "d6a381db-3d84-42ec-f98e-47a25c942c65"
      },
      "source": [
        "mappings = som.win_map(X)\n",
        "mappings.keys()\n"
      ],
      "execution_count": 33,
      "outputs": [
        {
          "output_type": "execute_result",
          "data": {
            "text/plain": [
              "dict_keys([(9, 6), (5, 7), (2, 7), (1, 0), (5, 1), (4, 9), (7, 6), (2, 4), (7, 3), (7, 2), (9, 0), (3, 3), (9, 4), (3, 9), (8, 8), (2, 3), (9, 9), (3, 2), (6, 4), (7, 0), (0, 3), (9, 8), (3, 0), (9, 1), (7, 9), (1, 9), (3, 4), (5, 6), (0, 6), (5, 9), (0, 1), (6, 9), (2, 9), (0, 4), (5, 8), (3, 7), (8, 9), (8, 0), (4, 7), (9, 7), (7, 8), (0, 8), (8, 3), (5, 5), (4, 0), (4, 8), (1, 8), (8, 7), (4, 3), (1, 1), (2, 0)])"
            ]
          },
          "metadata": {
            "tags": []
          },
          "execution_count": 33
        }
      ]
    },
    {
      "cell_type": "code",
      "metadata": {
        "id": "mdvU51qGFVRR",
        "colab_type": "code",
        "colab": {
          "base_uri": "https://localhost:8080/",
          "height": 34
        },
        "outputId": "6780a4a7-9352-4ab6-ed62-8cc65d802a5b"
      },
      "source": [
        "index = []\n",
        "for i in range(10):\n",
        "    for j in range(10):\n",
        "        if(distance_map[i,j]>=0.5):\n",
        "            index.append([i,j])\n",
        "len(index)\n"
      ],
      "execution_count": 36,
      "outputs": [
        {
          "output_type": "execute_result",
          "data": {
            "text/plain": [
              "85"
            ]
          },
          "metadata": {
            "tags": []
          },
          "execution_count": 36
        }
      ]
    },
    {
      "cell_type": "markdown",
      "metadata": {
        "id": "frXqAlpo84b1",
        "colab_type": "text"
      },
      "source": [
        "##Printing the Fraunch Clients"
      ]
    },
    {
      "cell_type": "code",
      "metadata": {
        "id": "54a4NnJo8761",
        "colab_type": "code",
        "colab": {
          "base_uri": "https://localhost:8080/",
          "height": 34
        },
        "outputId": "a9747a48-08f2-47d5-870b-d5b1d9102a01"
      },
      "source": [
        "fraud_list=[]\n",
        "sum = 0\n",
        "for x in index:\n",
        "    fraud_list.append(mappings[(x[0],x[1])])\n",
        "    sum = sum + len(mappings[(x[0],x[1])])\n",
        "sum"
      ],
      "execution_count": 38,
      "outputs": [
        {
          "output_type": "execute_result",
          "data": {
            "text/plain": [
              "552"
            ]
          },
          "metadata": {
            "tags": []
          },
          "execution_count": 38
        }
      ]
    },
    {
      "cell_type": "code",
      "metadata": {
        "id": "ENP30pJrFOsi",
        "colab_type": "code",
        "colab": {
          "base_uri": "https://localhost:8080/",
          "height": 1000
        },
        "outputId": "cfb5887b-e3dd-47be-d1c5-66971e598956"
      },
      "source": [
        "frauds = []\n",
        "for x in fraud_list:\n",
        "    for y in x:\n",
        "        frauds.append(y)\n",
        "fraud_array = np.asarray(frauds)\n",
        "fraud_inverse_transformed = sc.inverse_transform(frauds)\n",
        "print('Fraud Customer IDs')\n",
        "for i in fraud_inverse_transformed[:, 0]:\n",
        "  print(int(i))"
      ],
      "execution_count": 40,
      "outputs": [
        {
          "output_type": "stream",
          "text": [
            "Fraud Customer IDs\n",
            "15775750\n",
            "15690372\n",
            "15775235\n",
            "15780088\n",
            "15762045\n",
            "15750476\n",
            "15799859\n",
            "15789014\n",
            "15767264\n",
            "15761854\n",
            "15815040\n",
            "15788442\n",
            "15633944\n",
            "15801072\n",
            "15573798\n",
            "15647295\n",
            "15594305\n",
            "15664793\n",
            "15670029\n",
            "15763579\n",
            "15662189\n",
            "15793825\n",
            "15696361\n",
            "15568469\n",
            "15782159\n",
            "15586479\n",
            "15717700\n",
            "15705379\n",
            "15750104\n",
            "15646535\n",
            "15749964\n",
            "15586183\n",
            "15607988\n",
            "15632010\n",
            "15627365\n",
            "15576680\n",
            "15620570\n",
            "15592412\n",
            "15687688\n",
            "15638610\n",
            "15789611\n",
            "15668679\n",
            "15738487\n",
            "15649160\n",
            "15773421\n",
            "15682686\n",
            "15781875\n",
            "15809837\n",
            "15621244\n",
            "15636521\n",
            "15632789\n",
            "15761554\n",
            "15707602\n",
            "15811690\n",
            "15815095\n",
            "15720725\n",
            "15567834\n",
            "15591035\n",
            "15672912\n",
            "15694677\n",
            "15598614\n",
            "15608804\n",
            "15631267\n",
            "15611189\n",
            "15759387\n",
            "15712483\n",
            "15572361\n",
            "15698522\n",
            "15772941\n",
            "15605872\n",
            "15704581\n",
            "15725776\n",
            "15697460\n",
            "15737998\n",
            "15718921\n",
            "15683993\n",
            "15797767\n",
            "15744044\n",
            "15804235\n",
            "15700300\n",
            "15791944\n",
            "15646190\n",
            "15694530\n",
            "15730287\n",
            "15720353\n",
            "15736510\n",
            "15736420\n",
            "15737542\n",
            "15748986\n",
            "15663942\n",
            "15767729\n",
            "15711446\n",
            "15720529\n",
            "15787693\n",
            "15688210\n",
            "15793366\n",
            "15793317\n",
            "15735106\n",
            "15692430\n",
            "15683276\n",
            "15768777\n",
            "15791326\n",
            "15779586\n",
            "15730150\n",
            "15662854\n",
            "15610042\n",
            "15568162\n",
            "15745375\n",
            "15638983\n",
            "15662152\n",
            "15623210\n",
            "15734578\n",
            "15579583\n",
            "15570508\n",
            "15795527\n",
            "15641733\n",
            "15660144\n",
            "15603565\n",
            "15664720\n",
            "15627328\n",
            "15645820\n",
            "15800554\n",
            "15617991\n",
            "15696120\n",
            "15750545\n",
            "15567919\n",
            "15687634\n",
            "15638751\n",
            "15641007\n",
            "15665014\n",
            "15606554\n",
            "15719940\n",
            "15761158\n",
            "15711742\n",
            "15761733\n",
            "15770995\n",
            "15699963\n",
            "15736399\n",
            "15766734\n",
            "15667934\n",
            "15665087\n",
            "15667588\n",
            "15631685\n",
            "15587297\n",
            "15609823\n",
            "15614813\n",
            "15594133\n",
            "15571081\n",
            "15706268\n",
            "15653147\n",
            "15778142\n",
            "15721507\n",
            "15625501\n",
            "15636562\n",
            "15589541\n",
            "15700046\n",
            "15569595\n",
            "15598574\n",
            "15587443\n",
            "15665181\n",
            "15605791\n",
            "15596797\n",
            "15571415\n",
            "15565714\n",
            "15608688\n",
            "15609070\n",
            "15575438\n",
            "15565996\n",
            "15644400\n",
            "15592914\n",
            "15581871\n",
            "15611973\n",
            "15617065\n",
            "15593178\n",
            "15573077\n",
            "15646521\n",
            "15638272\n",
            "15599152\n",
            "15652289\n",
            "15642001\n",
            "15632275\n",
            "15620103\n",
            "15643574\n",
            "15600027\n",
            "15588019\n",
            "15615670\n",
            "15599535\n",
            "15575146\n",
            "15737627\n",
            "15709459\n",
            "15752139\n",
            "15766906\n",
            "15798895\n",
            "15732884\n",
            "15730673\n",
            "15813363\n",
            "15765093\n",
            "15779492\n",
            "15742297\n",
            "15707042\n",
            "15778589\n",
            "15729377\n",
            "15735221\n",
            "15782089\n",
            "15678779\n",
            "15741633\n",
            "15769980\n",
            "15590434\n",
            "15671014\n",
            "15593345\n",
            "15689692\n",
            "15672357\n",
            "15790254\n",
            "15768600\n",
            "15748552\n",
            "15757467\n",
            "15682576\n",
            "15801441\n",
            "15815443\n",
            "15748432\n",
            "15708714\n",
            "15705343\n",
            "15788131\n",
            "15771856\n",
            "15648876\n",
            "15679394\n",
            "15720644\n",
            "15696287\n",
            "15808023\n",
            "15795079\n",
            "15808386\n",
            "15698749\n",
            "15746258\n",
            "15671987\n",
            "15764841\n",
            "15748649\n",
            "15729718\n",
            "15786539\n",
            "15773776\n",
            "15778345\n",
            "15791769\n",
            "15776494\n",
            "15591552\n",
            "15593694\n",
            "15571571\n",
            "15636626\n",
            "15716082\n",
            "15752344\n",
            "15779207\n",
            "15636454\n",
            "15666166\n",
            "15715750\n",
            "15621546\n",
            "15789201\n",
            "15777994\n",
            "15704081\n",
            "15723884\n",
            "15677112\n",
            "15597536\n",
            "15636478\n",
            "15689781\n",
            "15735837\n",
            "15627699\n",
            "15697310\n",
            "15778290\n",
            "15585192\n",
            "15701081\n",
            "15622729\n",
            "15671582\n",
            "15611318\n",
            "15722479\n",
            "15810723\n",
            "15730360\n",
            "15649183\n",
            "15751137\n",
            "15641715\n",
            "15664083\n",
            "15690898\n",
            "15704315\n",
            "15766663\n",
            "15622507\n",
            "15640521\n",
            "15591248\n",
            "15800049\n",
            "15785367\n",
            "15703177\n",
            "15659031\n",
            "15697844\n",
            "15733602\n",
            "15706602\n",
            "15728082\n",
            "15801817\n",
            "15781574\n",
            "15642098\n",
            "15675176\n",
            "15693382\n",
            "15796787\n",
            "15768449\n",
            "15725002\n",
            "15752601\n",
            "15707681\n",
            "15632669\n",
            "15665374\n",
            "15598586\n",
            "15701738\n",
            "15690169\n",
            "15740356\n",
            "15799785\n",
            "15731586\n",
            "15801473\n",
            "15699238\n",
            "15794204\n",
            "15739548\n",
            "15699839\n",
            "15648069\n",
            "15705918\n",
            "15706762\n",
            "15672894\n",
            "15575605\n",
            "15644453\n",
            "15756538\n",
            "15651868\n",
            "15694666\n",
            "15728523\n",
            "15646594\n",
            "15593959\n",
            "15629750\n",
            "15651460\n",
            "15675926\n",
            "15672637\n",
            "15592999\n",
            "15577771\n",
            "15769548\n",
            "15736533\n",
            "15593834\n",
            "15737909\n",
            "15599272\n",
            "15660528\n",
            "15611409\n",
            "15711299\n",
            "15609987\n",
            "15666096\n",
            "15609758\n",
            "15611682\n",
            "15608916\n",
            "15615296\n",
            "15618258\n",
            "15783883\n",
            "15734008\n",
            "15757434\n",
            "15742009\n",
            "15673907\n",
            "15752578\n",
            "15721504\n",
            "15805261\n",
            "15580914\n",
            "15785339\n",
            "15678210\n",
            "15664615\n",
            "15607986\n",
            "15716276\n",
            "15578722\n",
            "15762392\n",
            "15591107\n",
            "15585855\n",
            "15661412\n",
            "15571284\n",
            "15591360\n",
            "15570947\n",
            "15589881\n",
            "15592326\n",
            "15671293\n",
            "15598266\n",
            "15602456\n",
            "15580579\n",
            "15568819\n",
            "15813718\n",
            "15815271\n",
            "15744273\n",
            "15773934\n",
            "15570990\n",
            "15694237\n",
            "15805627\n",
            "15692718\n",
            "15789865\n",
            "15618703\n",
            "15757933\n",
            "15677395\n",
            "15583724\n",
            "15810716\n",
            "15585892\n",
            "15609356\n",
            "15588123\n",
            "15672432\n",
            "15583680\n",
            "15572390\n",
            "15575243\n",
            "15566495\n",
            "15663194\n",
            "15631693\n",
            "15613699\n",
            "15569394\n",
            "15594651\n",
            "15644446\n",
            "15803378\n",
            "15714087\n",
            "15730793\n",
            "15788776\n",
            "15654859\n",
            "15723827\n",
            "15746995\n",
            "15725028\n",
            "15768474\n",
            "15764444\n",
            "15731989\n",
            "15671534\n",
            "15777893\n",
            "15667460\n",
            "15726466\n",
            "15763108\n",
            "15723989\n",
            "15728906\n",
            "15708236\n",
            "15726167\n",
            "15727811\n",
            "15567839\n",
            "15622083\n",
            "15623369\n",
            "15650591\n",
            "15813192\n",
            "15675450\n",
            "15753591\n",
            "15766183\n",
            "15808662\n",
            "15684722\n",
            "15797246\n",
            "15772329\n",
            "15734649\n",
            "15646082\n",
            "15717629\n",
            "15757188\n",
            "15604536\n",
            "15635598\n",
            "15647191\n",
            "15812918\n",
            "15715519\n",
            "15630592\n",
            "15776545\n",
            "15757306\n",
            "15793896\n",
            "15711759\n",
            "15633608\n",
            "15808223\n",
            "15802869\n",
            "15786237\n",
            "15642336\n",
            "15740487\n",
            "15702571\n",
            "15715907\n",
            "15792107\n",
            "15768342\n",
            "15748532\n",
            "15767358\n",
            "15811742\n",
            "15788634\n",
            "15655658\n",
            "15681755\n",
            "15643056\n",
            "15596165\n",
            "15690153\n",
            "15631451\n",
            "15632503\n",
            "15680901\n",
            "15689786\n",
            "15711635\n",
            "15670646\n",
            "15673747\n",
            "15765487\n",
            "15604130\n",
            "15575430\n",
            "15569917\n",
            "15713250\n",
            "15604196\n",
            "15679622\n",
            "15660871\n",
            "15711977\n",
            "15776156\n",
            "15768295\n",
            "15783859\n",
            "15709252\n",
            "15701885\n",
            "15753550\n",
            "15745804\n",
            "15724851\n",
            "15810485\n",
            "15795690\n",
            "15788224\n",
            "15702149\n",
            "15787229\n",
            "15759133\n",
            "15713160\n",
            "15764922\n",
            "15790113\n",
            "15735330\n",
            "15809909\n",
            "15758477\n",
            "15796413\n",
            "15776921\n",
            "15686461\n",
            "15684512\n",
            "15680643\n",
            "15692137\n",
            "15668830\n",
            "15796569\n",
            "15805212\n",
            "15712877\n",
            "15691150\n",
            "15573520\n",
            "15740458\n",
            "15686885\n",
            "15585928\n",
            "15680895\n",
            "15807546\n",
            "15583067\n",
            "15773869\n",
            "15796111\n",
            "15809800\n",
            "15623072\n",
            "15676909\n",
            "15802071\n",
            "15790630\n",
            "15750055\n",
            "15647898\n",
            "15679801\n",
            "15748499\n",
            "15569682\n",
            "15803682\n",
            "15587038\n",
            "15770406\n",
            "15592773\n",
            "15732943\n",
            "15781975\n",
            "15770255\n",
            "15773789\n",
            "15794868\n",
            "15705506\n",
            "15812470\n",
            "15674583\n",
            "15588854\n",
            "15788215\n",
            "15699294\n",
            "15722535\n"
          ],
          "name": "stdout"
        }
      ]
    }
  ]
}