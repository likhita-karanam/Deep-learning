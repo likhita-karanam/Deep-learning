{
 "cells": [
  {
   "cell_type": "code",
   "execution_count": 1,
   "metadata": {},
   "outputs": [
    {
     "name": "stdout",
     "output_type": "stream",
     "text": [
      "Collecting MiniSom\n",
      "  Downloading MiniSom-2.2.6.tar.gz (8.2 kB)\n",
      "Building wheels for collected packages: MiniSom\n",
      "  Building wheel for MiniSom (setup.py): started\n",
      "  Building wheel for MiniSom (setup.py): finished with status 'done'\n",
      "  Created wheel for MiniSom: filename=MiniSom-2.2.6-py3-none-any.whl size=8530 sha256=c2942da17b6be2e152aa6e4b7720b6abfb36746f357debd171908cb5946a6b81\n",
      "  Stored in directory: c:\\users\\likhita\\appdata\\local\\pip\\cache\\wheels\\2a\\0e\\9e\\6500009288a2a348561306008bd82dad4b47d7766966d92bac\n",
      "Successfully built MiniSom\n",
      "Installing collected packages: MiniSom\n",
      "Successfully installed MiniSom-2.2.6\n"
     ]
    }
   ],
   "source": [
    "#Install MiniSom Package\n",
    "!pip install MiniSom"
   ]
  },
  {
   "cell_type": "code",
   "execution_count": 2,
   "metadata": {},
   "outputs": [],
   "source": [
    "#Importing the libraries\n",
    "import numpy as np\n",
    "import pandas as pd\n",
    "import matplotlib.pyplot as plt"
   ]
  },
  {
   "cell_type": "code",
   "execution_count": 3,
   "metadata": {},
   "outputs": [],
   "source": [
    "#Importing the dataset\n",
    "dataset = pd.read_csv('Credit_Card_Applications.csv')\n",
    "X = dataset.iloc[:, :-1].values \n",
    "y = dataset.iloc[:, -1].values"
   ]
  },
  {
   "cell_type": "code",
   "execution_count": 4,
   "metadata": {},
   "outputs": [],
   "source": [
    "#Feature Scaling\n",
    "from sklearn.preprocessing import MinMaxScaler\n",
    "sc = MinMaxScaler(feature_range = (0,1))\n",
    "X = sc.fit_transform(X)"
   ]
  },
  {
   "cell_type": "code",
   "execution_count": 5,
   "metadata": {},
   "outputs": [],
   "source": [
    "#Training the SOM\n",
    "from minisom import MiniSom\n",
    "som = MiniSom(x=10, y=10, input_len= 15, sigma= 1.0, learning_rate = 0.5)\n",
    "som.random_weights_init(X)\n",
    "som.train_random(data = X, num_iteration = 100)"
   ]
  },
  {
   "cell_type": "code",
   "execution_count": 6,
   "metadata": {},
   "outputs": [
    {
     "data": {
      "image/png": "[encoded data removed]",
      "text/plain": [
       "<Figure size 432x288 with 2 Axes>"
      ]
     },
     "metadata": {
      "needs_background": "light"
     },
     "output_type": "display_data"
    }
   ],
   "source": [
    "#Visualizing the results\n",
    "from pylab import bone, pcolor, colorbar, plot, show\n",
    "bone()\n",
    "pcolor(som.distance_map().T)\n",
    "colorbar()\n",
    "markers = ['o', 's']\n",
    "colors = ['r', 'g']\n",
    "for i, x in enumerate(X):\n",
    "    w = som.winner(x)\n",
    "    plot(w[0] + 0.5,\n",
    "         w[1] + 0.5,\n",
    "         markers[y[i]],\n",
    "         markeredgecolor = colors[y[i]],\n",
    "         markerfacecolor = 'None',\n",
    "         markersize = 10,\n",
    "         markeredgewidth = 2)\n",
    "show()"
   ]
  },
  {
   "cell_type": "code",
   "execution_count": 7,
   "metadata": {},
   "outputs": [],
   "source": [
    "# Finding the frauds\n",
    "mappings = som.win_map(X)\n",
    "frauds = np.concatenate((mappings[(1,1)], mappings[(4,1)]), axis = 0)\n",
    "frauds = sc.inverse_transform(frauds)"
   ]
  },
  {
   "cell_type": "code",
   "execution_count": 8,
   "metadata": {},
   "outputs": [
    {
     "name": "stdout",
     "output_type": "stream",
     "text": [
      "Fraud Customer IDs\n",
      "15739548\n",
      "15699839\n",
      "15705918\n",
      "15706762\n",
      "15672894\n",
      "15783883\n",
      "15756538\n",
      "15651868\n",
      "15801473\n",
      "15728523\n",
      "15716082\n",
      "15651460\n",
      "15675926\n",
      "15672637\n",
      "15794204\n",
      "15734008\n",
      "15757434\n",
      "15769548\n",
      "15742009\n",
      "15752344\n",
      "15736533\n",
      "15673907\n",
      "15737909\n",
      "15660528\n",
      "15779207\n",
      "15611409\n",
      "15711299\n",
      "15609987\n",
      "15752578\n",
      "15666096\n",
      "15609758\n",
      "15636454\n",
      "15615296\n",
      "15618258\n",
      "15805261\n",
      "15715750\n",
      "15621546\n",
      "15789201\n",
      "15723884\n",
      "15636478\n",
      "15689781\n",
      "15735837\n",
      "15627699\n",
      "15778290\n",
      "15585192\n",
      "15591552\n",
      "15701081\n",
      "15622729\n",
      "15671582\n",
      "15611318\n",
      "15649183\n",
      "15751137\n",
      "15641715\n",
      "15664083\n",
      "15690898\n",
      "15704315\n",
      "15622507\n",
      "15640521\n",
      "15591248\n",
      "15800049\n",
      "15598266\n",
      "15593694\n",
      "15785367\n",
      "15659031\n",
      "15801817\n",
      "15642098\n",
      "15725002\n",
      "15707681\n",
      "15632669\n",
      "15701738\n",
      "15690169\n"
     ]
    }
   ],
   "source": [
    "# Printing the Fraunch Clients\n",
    "print('Fraud Customer IDs')\n",
    "for i in frauds[:, 0]:\n",
    "  print(int(i))"
   ]
  }
 ],
 "metadata": {
  "kernelspec": {
   "display_name": "Python 3",
   "language": "python",
   "name": "python3"
  },
  "language_info": {
   "codemirror_mode": {
    "name": "ipython",
    "version": 3
   },
   "file_extension": ".py",
   "mimetype": "text/x-python",
   "name": "python",
   "nbconvert_exporter": "python",
   "pygments_lexer": "ipython3",
   "version": "3.7.6"
  }
 },
 "nbformat": 4,
 "nbformat_minor": 4
}
